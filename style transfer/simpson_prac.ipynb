{
  "nbformat": 4,
  "nbformat_minor": 0,
  "metadata": {
    "colab": {
      "name": "simpson_prac.ipynb",
      "provenance": [],
      "collapsed_sections": []
    },
    "kernelspec": {
      "name": "python3",
      "display_name": "Python 3"
    },
    "language_info": {
      "name": "python"
    }
  },
  "cells": [
    {
      "cell_type": "code",
      "metadata": {
        "id": "GYLVsN2MuBY3"
      },
      "source": [
        "import tensorflow as tf\n",
        "\n",
        "import os\n",
        "import time\n",
        "\n",
        "from matplotlib import pyplot as plt\n",
        "from IPython import display"
      ],
      "execution_count": null,
      "outputs": []
    },
    {
      "cell_type": "code",
      "metadata": {
        "colab": {
          "base_uri": "https://localhost:8080/"
        },
        "id": "jorHF6_KuDCz",
        "outputId": "d27f0898-c336-4d71-8935-4011772faa6a"
      },
      "source": [
        "from google.colab import drive \n",
        "drive.mount('/content/gdrive/')"
      ],
      "execution_count": null,
      "outputs": [
        {
          "output_type": "stream",
          "text": [
            "Drive already mounted at /content/gdrive/; to attempt to forcibly remount, call drive.mount(\"/content/gdrive/\", force_remount=True).\n"
          ],
          "name": "stdout"
        }
      ]
    },
    {
      "cell_type": "code",
      "metadata": {
        "colab": {
          "base_uri": "https://localhost:8080/"
        },
        "id": "bLCUn16AtmAM",
        "outputId": "483bbb18-2dfb-43ef-af11-33ed77cd1e6d"
      },
      "source": [
        "os.listdir('/content/gdrive/MyDrive/study3_simpson')"
      ],
      "execution_count": null,
      "outputs": [
        {
          "output_type": "execute_result",
          "data": {
            "text/plain": [
              "['pix2pix.ipynb', 'simpson_prac.ipynb', 'cropped.zip', 'simplified.zip']"
            ]
          },
          "metadata": {
            "tags": []
          },
          "execution_count": 11
        }
      ]
    },
    {
      "cell_type": "code",
      "metadata": {
        "id": "Toskm_2-t4FU"
      },
      "source": [
        "!unzip -qq \"/content/gdrive/MyDrive/study3_simpson/cropped.zip\""
      ],
      "execution_count": null,
      "outputs": []
    },
    {
      "cell_type": "code",
      "metadata": {
        "id": "1V3gosSuuulh"
      },
      "source": [
        "!unzip -qq \"/content/gdrive/MyDrive/study3_simpson/simplified.zip\""
      ],
      "execution_count": null,
      "outputs": []
    },
    {
      "cell_type": "code",
      "metadata": {
        "colab": {
          "base_uri": "https://localhost:8080/"
        },
        "id": "D3M2soU9uxtR",
        "outputId": "50914730-953f-42be-86b7-fc123ee107b7"
      },
      "source": [
        "cropped_lst = os.listdir('/content/cropped/cropped')\n",
        "print(len(cropped_lst))\n",
        "simplified_lst = os.listdir('/content/simplified/simplified')\n",
        "print(len(simplified_lst))\n",
        "print(cropped_lst[0])"
      ],
      "execution_count": null,
      "outputs": [
        {
          "output_type": "stream",
          "text": [
            "8491\n",
            "4099\n",
            "7993.png\n"
          ],
          "name": "stdout"
        }
      ]
    },
    {
      "cell_type": "code",
      "metadata": {
        "id": "Z3_Cp2qHF1KY"
      },
      "source": [
        "os.listdir('/content/cropped/cropped')"
      ],
      "execution_count": null,
      "outputs": []
    },
    {
      "cell_type": "code",
      "metadata": {
        "colab": {
          "base_uri": "https://localhost:8080/"
        },
        "id": "uOXvUIygE8Qy",
        "outputId": "10ca0e8b-31b0-4be7-a1ca-3dc028672a13"
      },
      "source": [
        "import cv2\n",
        "a = cv2.imread('content/cropped/cropped/10.png',1)\n",
        "print(a)"
      ],
      "execution_count": null,
      "outputs": [
        {
          "output_type": "stream",
          "text": [
            "None\n"
          ],
          "name": "stdout"
        }
      ]
    },
    {
      "cell_type": "code",
      "metadata": {
        "id": "0Cmsfe0sEnrS"
      },
      "source": [
        "#os.listdir('/content/cropped/cropped')"
      ],
      "execution_count": null,
      "outputs": []
    },
    {
      "cell_type": "code",
      "metadata": {
        "id": "aL5xPWc48Yfw"
      },
      "source": [
        "# concat image\n",
        "\n",
        "import cv2\n",
        "import numpy as np\n",
        "\n",
        "for img_num in cropped_lst: # img = 7993.png\n",
        "  #print(img_num)\n",
        "\n",
        "  if img_num in simplified_lst:\n",
        "    img_gt = cv2.imread(\"/content/cropped/cropped/\"+img_num, 1)\n",
        "    img_input = cv2.imread(\"/content/simplified/simplified/\"+img_num, 1)\n",
        "    #print(img_gt.shape, img_input.shape)\n",
        "    img_input = cv2.resize(img_input, (128,128))\n",
        "    img_gt = cv2.resize(img_gt, (128,128))\n",
        "    #print(img_gt.shape, img_input.shape)\n",
        "    combined_img = cv2.hconcat([img_input, img_gt])\n",
        "    print(combined_img.shape)\n",
        "    new_img_path = \"/content/gdrive/MyDrive/study3_simpson/dataset/\"+img_num\n",
        "\n",
        "    cv2.imwrite(new_img_path, combined_img)\n"
      ],
      "execution_count": null,
      "outputs": []
    },
    {
      "cell_type": "code",
      "metadata": {
        "id": "CFSMI_k2LvvN"
      },
      "source": [
        "PATH = \"/content/gdrive/MyDrive/study3_simpson/dataset/\""
      ],
      "execution_count": null,
      "outputs": []
    },
    {
      "cell_type": "code",
      "metadata": {
        "colab": {
          "base_uri": "https://localhost:8080/"
        },
        "id": "w2SB4FbjNLcX",
        "outputId": "babdb0ca-5ae3-4a60-c123-a39edc65b04f"
      },
      "source": [
        "os.listdir(PATH)[:3]"
      ],
      "execution_count": null,
      "outputs": [
        {
          "output_type": "execute_result",
          "data": {
            "text/plain": [
              "['6932.png', '2846.png', '6477.png']"
            ]
          },
          "metadata": {
            "tags": []
          },
          "execution_count": 55
        }
      ]
    },
    {
      "cell_type": "code",
      "metadata": {
        "colab": {
          "base_uri": "https://localhost:8080/",
          "height": 145
        },
        "id": "8HvK7NBBK4d3",
        "outputId": "5ff13f9c-c0c7-458b-9307-01eb208dc87c"
      },
      "source": [
        "from google.colab.patches import cv2_imshow\n",
        "sample_image = cv2.imread(\"/content/gdrive/MyDrive/study3_simpson/dataset/6477.png\",1)\n",
        "cv2_imshow(sample_image)"
      ],
      "execution_count": null,
      "outputs": [
        {
          "output_type": "display_data",
          "data": {
            "image/png": "[encoded data removed]",
            "text/plain": [
              "<PIL.Image.Image image mode=RGB size=256x128 at 0x7FF605667650>"
            ]
          },
          "metadata": {
            "tags": []
          }
        }
      ]
    },
    {
      "cell_type": "code",
      "metadata": {
        "id": "XpcPAV2ML7uU"
      },
      "source": [
        "from PIL import Image\n",
        "import imageio\n",
        "\n",
        "def load():\n",
        "  image = imageio.imread(sample_image).astype(np.float)\n",
        "\n",
        "  w = int(image.shape[1]/2)\n",
        "  input_image = image[:, w:, :]\n",
        "  real_image = image[:, :w, :]\n",
        "\n",
        "  input_image = tf.cast(input_image, tf.float32)\n",
        "  real_image = tf.cast(real_image, tf.float32)\n",
        "\n",
        "  return input_image, real_image"
      ],
      "execution_count": null,
      "outputs": []
    }
  ]
}